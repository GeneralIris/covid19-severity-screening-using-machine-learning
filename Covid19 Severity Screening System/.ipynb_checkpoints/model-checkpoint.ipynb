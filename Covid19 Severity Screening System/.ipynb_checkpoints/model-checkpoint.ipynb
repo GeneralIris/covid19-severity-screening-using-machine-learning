{
 "cells": [
  {
   "cell_type": "markdown",
   "id": "e634fb19",
   "metadata": {},
   "source": [
    "# **COVID19 SEVERITY SCREENING SYSTEM USING MACHINE LEARNING TECHNIQUE**\n",
    "\n",
    "Written by: Abang Mohd Irham Amiruddin Bin Yusuf\n",
    "\n",
    "Data source: https://springernature.figshare.com/articles/dataset/Data_associated_with_the_article_Epidemiological_and_clinical_characteristics_of_imported_cases_with_COVID-19_infection_a_multicentre_study/12159918"
   ]
  },
  {
   "cell_type": "markdown",
   "id": "42c9d463",
   "metadata": {},
   "source": [
    "## 4.1 Data Preprocessing"
   ]
  },
  {
   "cell_type": "code",
   "execution_count": 2,
   "id": "d78e2b24",
   "metadata": {},
   "outputs": [
    {
     "data": {
      "text/html": [
       "<div>\n",
       "<style scoped>\n",
       "    .dataframe tbody tr th:only-of-type {\n",
       "        vertical-align: middle;\n",
       "    }\n",
       "\n",
       "    .dataframe tbody tr th {\n",
       "        vertical-align: top;\n",
       "    }\n",
       "\n",
       "    .dataframe thead th {\n",
       "        text-align: right;\n",
       "    }\n",
       "</style>\n",
       "<table border=\"1\" class=\"dataframe\">\n",
       "  <thead>\n",
       "    <tr style=\"text-align: right;\">\n",
       "      <th></th>\n",
       "      <th>ID</th>\n",
       "      <th>District</th>\n",
       "      <th>Gender</th>\n",
       "      <th>Age</th>\n",
       "      <th>Distribution</th>\n",
       "      <th>Outcome</th>\n",
       "      <th>Fever</th>\n",
       "      <th>Cough</th>\n",
       "      <th>Fatigue</th>\n",
       "      <th>Dyspnea</th>\n",
       "      <th>...</th>\n",
       "      <th>Contact</th>\n",
       "      <th>Contact-W</th>\n",
       "      <th>Contact-C</th>\n",
       "      <th>Time-1</th>\n",
       "      <th>Time-2</th>\n",
       "      <th>Time-3</th>\n",
       "      <th>Cluster</th>\n",
       "      <th>Cluster-F</th>\n",
       "      <th>Cluster-O</th>\n",
       "      <th>Type</th>\n",
       "    </tr>\n",
       "  </thead>\n",
       "  <tbody>\n",
       "    <tr>\n",
       "      <th>0</th>\n",
       "      <td>1</td>\n",
       "      <td>1</td>\n",
       "      <td>2</td>\n",
       "      <td>29</td>\n",
       "      <td>1</td>\n",
       "      <td>2</td>\n",
       "      <td>1</td>\n",
       "      <td>0</td>\n",
       "      <td>0</td>\n",
       "      <td>0</td>\n",
       "      <td>...</td>\n",
       "      <td>1</td>\n",
       "      <td>0</td>\n",
       "      <td>0</td>\n",
       "      <td>11.0</td>\n",
       "      <td>2.0</td>\n",
       "      <td>9</td>\n",
       "      <td>1</td>\n",
       "      <td>1</td>\n",
       "      <td>0</td>\n",
       "      <td>2</td>\n",
       "    </tr>\n",
       "    <tr>\n",
       "      <th>1</th>\n",
       "      <td>2</td>\n",
       "      <td>1</td>\n",
       "      <td>1</td>\n",
       "      <td>29</td>\n",
       "      <td>1</td>\n",
       "      <td>2</td>\n",
       "      <td>1</td>\n",
       "      <td>0</td>\n",
       "      <td>0</td>\n",
       "      <td>0</td>\n",
       "      <td>...</td>\n",
       "      <td>1</td>\n",
       "      <td>0</td>\n",
       "      <td>0</td>\n",
       "      <td>11.0</td>\n",
       "      <td>2.0</td>\n",
       "      <td>9</td>\n",
       "      <td>1</td>\n",
       "      <td>1</td>\n",
       "      <td>0</td>\n",
       "      <td>2</td>\n",
       "    </tr>\n",
       "    <tr>\n",
       "      <th>2</th>\n",
       "      <td>3</td>\n",
       "      <td>1</td>\n",
       "      <td>1</td>\n",
       "      <td>34</td>\n",
       "      <td>1</td>\n",
       "      <td>2</td>\n",
       "      <td>1</td>\n",
       "      <td>0</td>\n",
       "      <td>1</td>\n",
       "      <td>0</td>\n",
       "      <td>...</td>\n",
       "      <td>1</td>\n",
       "      <td>1</td>\n",
       "      <td>0</td>\n",
       "      <td>7.0</td>\n",
       "      <td>2.0</td>\n",
       "      <td>3</td>\n",
       "      <td>1</td>\n",
       "      <td>0</td>\n",
       "      <td>1</td>\n",
       "      <td>2</td>\n",
       "    </tr>\n",
       "    <tr>\n",
       "      <th>3</th>\n",
       "      <td>4</td>\n",
       "      <td>1</td>\n",
       "      <td>1</td>\n",
       "      <td>34</td>\n",
       "      <td>1</td>\n",
       "      <td>2</td>\n",
       "      <td>1</td>\n",
       "      <td>0</td>\n",
       "      <td>1</td>\n",
       "      <td>0</td>\n",
       "      <td>...</td>\n",
       "      <td>1</td>\n",
       "      <td>1</td>\n",
       "      <td>0</td>\n",
       "      <td>1.0</td>\n",
       "      <td>8.0</td>\n",
       "      <td>1</td>\n",
       "      <td>1</td>\n",
       "      <td>0</td>\n",
       "      <td>1</td>\n",
       "      <td>2</td>\n",
       "    </tr>\n",
       "    <tr>\n",
       "      <th>4</th>\n",
       "      <td>5</td>\n",
       "      <td>1</td>\n",
       "      <td>2</td>\n",
       "      <td>65</td>\n",
       "      <td>1</td>\n",
       "      <td>1</td>\n",
       "      <td>0</td>\n",
       "      <td>1</td>\n",
       "      <td>0</td>\n",
       "      <td>1</td>\n",
       "      <td>...</td>\n",
       "      <td>1</td>\n",
       "      <td>1</td>\n",
       "      <td>0</td>\n",
       "      <td>NaN</td>\n",
       "      <td>6.0</td>\n",
       "      <td>7</td>\n",
       "      <td>1</td>\n",
       "      <td>1</td>\n",
       "      <td>0</td>\n",
       "      <td>3</td>\n",
       "    </tr>\n",
       "  </tbody>\n",
       "</table>\n",
       "<p>5 rows × 22 columns</p>\n",
       "</div>"
      ],
      "text/plain": [
       "   ID  District  Gender  Age  Distribution  Outcome  Fever  Cough  Fatigue  \\\n",
       "0   1         1       2   29             1        2      1      0        0   \n",
       "1   2         1       1   29             1        2      1      0        0   \n",
       "2   3         1       1   34             1        2      1      0        1   \n",
       "3   4         1       1   34             1        2      1      0        1   \n",
       "4   5         1       2   65             1        1      0      1        0   \n",
       "\n",
       "   Dyspnea  ...  Contact  Contact-W  Contact-C  Time-1  Time-2  Time-3  \\\n",
       "0        0  ...        1          0          0    11.0     2.0       9   \n",
       "1        0  ...        1          0          0    11.0     2.0       9   \n",
       "2        0  ...        1          1          0     7.0     2.0       3   \n",
       "3        0  ...        1          1          0     1.0     8.0       1   \n",
       "4        1  ...        1          1          0     NaN     6.0       7   \n",
       "\n",
       "   Cluster  Cluster-F  Cluster-O  Type  \n",
       "0        1          1          0     2  \n",
       "1        1          1          0     2  \n",
       "2        1          0          1     2  \n",
       "3        1          0          1     2  \n",
       "4        1          1          0     3  \n",
       "\n",
       "[5 rows x 22 columns]"
      ]
     },
     "execution_count": 2,
     "metadata": {},
     "output_type": "execute_result"
    }
   ],
   "source": [
    "import pandas as pd\n",
    "import numpy as np\n",
    "\n",
    "data = pd.read_csv(\"data\\data.csv\")\n",
    "data.head()"
   ]
  },
  {
   "cell_type": "code",
   "execution_count": 3,
   "id": "a350e160",
   "metadata": {},
   "outputs": [
    {
     "data": {
      "text/plain": [
       "(478, 22)"
      ]
     },
     "execution_count": 3,
     "metadata": {},
     "output_type": "execute_result"
    }
   ],
   "source": [
    "data.shape"
   ]
  },
  {
   "cell_type": "markdown",
   "id": "5fd362ed",
   "metadata": {},
   "source": [
    "### 4.1.1 Data Cleaning"
   ]
  },
  {
   "cell_type": "code",
   "execution_count": 4,
   "id": "6b6a82e3",
   "metadata": {},
   "outputs": [
    {
     "data": {
      "text/html": [
       "<div>\n",
       "<style scoped>\n",
       "    .dataframe tbody tr th:only-of-type {\n",
       "        vertical-align: middle;\n",
       "    }\n",
       "\n",
       "    .dataframe tbody tr th {\n",
       "        vertical-align: top;\n",
       "    }\n",
       "\n",
       "    .dataframe thead th {\n",
       "        text-align: right;\n",
       "    }\n",
       "</style>\n",
       "<table border=\"1\" class=\"dataframe\">\n",
       "  <thead>\n",
       "    <tr style=\"text-align: right;\">\n",
       "      <th></th>\n",
       "      <th>Gender</th>\n",
       "      <th>Age</th>\n",
       "      <th>Fever</th>\n",
       "      <th>Cough</th>\n",
       "      <th>Fatigue</th>\n",
       "      <th>Dyspnea</th>\n",
       "      <th>Headache</th>\n",
       "      <th>H-Temperature</th>\n",
       "      <th>Type</th>\n",
       "    </tr>\n",
       "  </thead>\n",
       "  <tbody>\n",
       "    <tr>\n",
       "      <th>0</th>\n",
       "      <td>2</td>\n",
       "      <td>29</td>\n",
       "      <td>1</td>\n",
       "      <td>0</td>\n",
       "      <td>0</td>\n",
       "      <td>0</td>\n",
       "      <td>0</td>\n",
       "      <td>38.0</td>\n",
       "      <td>2</td>\n",
       "    </tr>\n",
       "    <tr>\n",
       "      <th>1</th>\n",
       "      <td>1</td>\n",
       "      <td>29</td>\n",
       "      <td>1</td>\n",
       "      <td>0</td>\n",
       "      <td>0</td>\n",
       "      <td>0</td>\n",
       "      <td>0</td>\n",
       "      <td>38.0</td>\n",
       "      <td>2</td>\n",
       "    </tr>\n",
       "    <tr>\n",
       "      <th>2</th>\n",
       "      <td>1</td>\n",
       "      <td>34</td>\n",
       "      <td>1</td>\n",
       "      <td>0</td>\n",
       "      <td>1</td>\n",
       "      <td>0</td>\n",
       "      <td>1</td>\n",
       "      <td>38.8</td>\n",
       "      <td>2</td>\n",
       "    </tr>\n",
       "    <tr>\n",
       "      <th>3</th>\n",
       "      <td>1</td>\n",
       "      <td>34</td>\n",
       "      <td>1</td>\n",
       "      <td>0</td>\n",
       "      <td>1</td>\n",
       "      <td>0</td>\n",
       "      <td>0</td>\n",
       "      <td>37.8</td>\n",
       "      <td>2</td>\n",
       "    </tr>\n",
       "    <tr>\n",
       "      <th>4</th>\n",
       "      <td>2</td>\n",
       "      <td>65</td>\n",
       "      <td>0</td>\n",
       "      <td>1</td>\n",
       "      <td>0</td>\n",
       "      <td>1</td>\n",
       "      <td>0</td>\n",
       "      <td>36.9</td>\n",
       "      <td>3</td>\n",
       "    </tr>\n",
       "  </tbody>\n",
       "</table>\n",
       "</div>"
      ],
      "text/plain": [
       "   Gender  Age  Fever  Cough  Fatigue  Dyspnea  Headache  H-Temperature  Type\n",
       "0       2   29      1      0        0        0         0           38.0     2\n",
       "1       1   29      1      0        0        0         0           38.0     2\n",
       "2       1   34      1      0        1        0         1           38.8     2\n",
       "3       1   34      1      0        1        0         0           37.8     2\n",
       "4       2   65      0      1        0        1         0           36.9     3"
      ]
     },
     "execution_count": 4,
     "metadata": {},
     "output_type": "execute_result"
    }
   ],
   "source": [
    "# remove irrelevant columns \n",
    "data = data.drop(['ID','District','Distribution','Outcome','Contact','Contact-W',\n",
    "                  'Contact-C','Cluster','Cluster-F','Cluster-O','Time-1','Time-2','Time-3'],axis=1)\n",
    "data.head()"
   ]
  },
  {
   "cell_type": "code",
   "execution_count": 5,
   "id": "6154357c",
   "metadata": {},
   "outputs": [
    {
     "data": {
      "text/plain": [
       "Gender           0\n",
       "Age              0\n",
       "Fever            0\n",
       "Cough            0\n",
       "Fatigue          0\n",
       "Dyspnea          0\n",
       "Headache         0\n",
       "H-Temperature    0\n",
       "Type             0\n",
       "dtype: int64"
      ]
     },
     "execution_count": 5,
     "metadata": {},
     "output_type": "execute_result"
    }
   ],
   "source": [
    "# check for missing data\n",
    "data.isnull().sum()"
   ]
  },
  {
   "cell_type": "code",
   "execution_count": 6,
   "id": "a8806898",
   "metadata": {},
   "outputs": [
    {
     "data": {
      "image/png": "[encoded data removed]",
      "text/plain": [
       "<Figure size 432x288 with 1 Axes>"
      ]
     },
     "metadata": {
      "needs_background": "light"
     },
     "output_type": "display_data"
    }
   ],
   "source": [
    "# use boxplot to find outliers\n",
    "\n",
    "import matplotlib.pyplot as plt\n",
    "data.boxplot(column=['Age','H-Temperature'])\n",
    "plt.title(\"Detecting Outliers\")\n",
    "plt.xlabel('Features')\n",
    "plt.show()"
   ]
  },
  {
   "cell_type": "code",
   "execution_count": 7,
   "id": "57031c3a",
   "metadata": {},
   "outputs": [],
   "source": [
    "# function to detect outliers in a column\n",
    "\n",
    "def findOutliers(data,col):\n",
    "    q3 = data[col].quantile(0.75)\n",
    "    q1 = data[col].quantile(0.25)\n",
    "    iqr = q3 - q1\n",
    "    \n",
    "    upper_bound = q3 + (1.5 * iqr)\n",
    "    lower_bound = q1 - (1.5 * iqr)\n",
    "    \n",
    "    outliersList = data.index[ (data[col] < lower_bound) | (data[col] > upper_bound)] \n",
    "    \n",
    "    return outliersList"
   ]
  },
  {
   "cell_type": "code",
   "execution_count": 8,
   "id": "a4e83945",
   "metadata": {},
   "outputs": [],
   "source": [
    "# find outliers in the columns\n",
    "\n",
    "indexList = []\n",
    "for col in ['Age','H-Temperature']:\n",
    "    indexList.extend(findOutliers(data,col))"
   ]
  },
  {
   "cell_type": "code",
   "execution_count": 9,
   "id": "23fdcf7d",
   "metadata": {},
   "outputs": [],
   "source": [
    "# remove the outliers\n",
    "\n",
    "def removeOutliers(data,outliersList):\n",
    "    outliersList = sorted(set(outliersList))\n",
    "    data = data.drop(outliersList)\n",
    "    return data\n",
    "\n",
    "data = removeOutliers(data,indexList)"
   ]
  },
  {
   "cell_type": "code",
   "execution_count": 10,
   "id": "22898db3",
   "metadata": {},
   "outputs": [
    {
     "data": {
      "image/png": "[encoded data removed]",
      "text/plain": [
       "<Figure size 432x288 with 1 Axes>"
      ]
     },
     "metadata": {
      "needs_background": "light"
     },
     "output_type": "display_data"
    }
   ],
   "source": [
    "# check outliers\n",
    "\n",
    "import matplotlib.pyplot as plt\n",
    "data.boxplot(column=['Age','H-Temperature'])\n",
    "plt.title(\"Outliers Removed\")\n",
    "plt.xlabel('Features')\n",
    "plt.show()"
   ]
  },
  {
   "cell_type": "markdown",
   "id": "01ae4bfb",
   "metadata": {},
   "source": [
    "### 4.1.2 Data Transformation"
   ]
  },
  {
   "cell_type": "code",
   "execution_count": 11,
   "id": "36466bbe",
   "metadata": {},
   "outputs": [],
   "source": [
    "def transform_age(x):\n",
    "    if x <= 18:\n",
    "        return 1 #child\n",
    "    elif x > 18 and x < 65:\n",
    "        return 2 #adult\n",
    "    elif x >= 65:\n",
    "        return 3 #old\n",
    "\n",
    "data['Age'] = data['Age'].apply(transform_age)"
   ]
  },
  {
   "cell_type": "code",
   "execution_count": 12,
   "id": "23163d4f",
   "metadata": {},
   "outputs": [],
   "source": [
    "def transform_temp(x):\n",
    "    if x < 37.3:\n",
    "        return 1\n",
    "    elif x >= 37.3 and x <= 38:\n",
    "        return 2 \n",
    "    elif x >= 38.1 and x <= 39:\n",
    "        return 3\n",
    "    else:\n",
    "        return 4\n",
    "\n",
    "data['H-Temperature'] = data['H-Temperature'].apply(transform_temp)"
   ]
  },
  {
   "cell_type": "markdown",
   "id": "4c101d4b",
   "metadata": {},
   "source": [
    "### 4.1.3 Data Balancing"
   ]
  },
  {
   "cell_type": "code",
   "execution_count": 13,
   "id": "c1775f0e",
   "metadata": {},
   "outputs": [],
   "source": [
    "X = data.drop(columns=\"Type\")\n",
    "y = data[\"Type\"]"
   ]
  },
  {
   "cell_type": "code",
   "execution_count": 14,
   "id": "ad00b13e",
   "metadata": {},
   "outputs": [
    {
     "data": {
      "image/png": "[encoded data removed]",
      "text/plain": [
       "<Figure size 432x288 with 1 Axes>"
      ]
     },
     "metadata": {
      "needs_background": "light"
     },
     "output_type": "display_data"
    }
   ],
   "source": [
    "import matplotlib.pyplot as plt\n",
    "import seaborn as sns\n",
    "\n",
    "# check balance data\n",
    "ax = sns.barplot(x=['Asymptomatic','Mild','Severe'],\n",
    "                 y=[sum(y==1),sum(y==2),sum(y==3)])\n",
    "\n",
    "for i,v in enumerate([sum(y==1),sum(y==2),sum(y==3)]):\n",
    "    ax.text(i - .1,v + 1,v)\n",
    "    \n",
    "ax.set_title(\"Class Distribution\")\n",
    "ax.set_xlabel('Type')\n",
    "plt.savefig('targetDistribution.jpg',bbox_inches='tight')\n",
    "plt.show()"
   ]
  },
  {
   "cell_type": "code",
   "execution_count": 15,
   "id": "3a15ad60",
   "metadata": {},
   "outputs": [
    {
     "data": {
      "image/png": "[encoded data removed]",
      "text/plain": [
       "<Figure size 432x288 with 2 Axes>"
      ]
     },
     "metadata": {
      "needs_background": "light"
     },
     "output_type": "display_data"
    }
   ],
   "source": [
    "# barplot before balancing\n",
    "fig, (ax1,ax2) = plt.subplots(1,2)\n",
    "sns.barplot(x=['Asymptomatic','Mild','Severe'],\n",
    "            y=[sum(y==1),sum(y==2),sum(y==3)],ax=ax1)\n",
    "ax1.set_title(\"Before Resample\")\n",
    "ax1.set_xlabel('Type')\n",
    "\n",
    "# oversampling technique\n",
    "from imblearn.over_sampling import SMOTE\n",
    "\n",
    "sm = SMOTE()\n",
    "X,y = sm.fit_resample(X,y)\n",
    "\n",
    "sns.barplot(x=['Asymptomatic','Mild','Severe'],\n",
    "            y=[sum(y==1),sum(y==2),sum(y==3)],ax=ax2)\n",
    "ax2.set_title(\"After Resample\")\n",
    "ax2.set_xlabel('Type')\n",
    "\n",
    "plt.suptitle(\"Data Resample Using Oversampling Technique\")\n",
    "plt.tight_layout()\n",
    "plt.savefig('resampled.jpg',bbox_inches='tight')\n",
    "plt.show()"
   ]
  },
  {
   "cell_type": "markdown",
   "id": "c4e43ece",
   "metadata": {},
   "source": [
    "## 4.2 Feature Selection"
   ]
  },
  {
   "cell_type": "code",
   "execution_count": 16,
   "id": "ea859f40",
   "metadata": {},
   "outputs": [],
   "source": [
    "# splitting dataset into testing and training dataset\n",
    "\n",
    "from sklearn.model_selection import train_test_split\n",
    "\n",
    "X_train, X_test, y_train, y_test = train_test_split(X,y,test_size=0.2,random_state=10)"
   ]
  },
  {
   "cell_type": "markdown",
   "id": "205d1547",
   "metadata": {},
   "source": [
    "### 4.2.1 Filter Method: Pearson Correlation"
   ]
  },
  {
   "cell_type": "code",
   "execution_count": 17,
   "id": "ca8fb569",
   "metadata": {
    "scrolled": true
   },
   "outputs": [
    {
     "data": {
      "image/png": "[encoded data removed]",
      "text/plain": [
       "<Figure size 576x432 with 2 Axes>"
      ]
     },
     "metadata": {
      "needs_background": "light"
     },
     "output_type": "display_data"
    }
   ],
   "source": [
    "# Using Pearson Correlation\n",
    "import seaborn as sns\n",
    "\n",
    "plt.figure(figsize=(8,6))\n",
    "cor = data.corr(method ='pearson')\n",
    "sns.heatmap(cor, annot=True, fmt='.2f',cmap=plt.cm.Reds)  \n",
    "plt.title(\"Correlation Between Features\")\n",
    "plt.savefig('pearsonsCorrelation.jpg',bbox_inches='tight')\n",
    "plt.show()"
   ]
  },
  {
   "cell_type": "code",
   "execution_count": 18,
   "id": "6668e71c",
   "metadata": {},
   "outputs": [
    {
     "name": "stdout",
     "output_type": "stream",
     "text": [
      "Fever            0.355900\n",
      "Dyspnea          0.499406\n",
      "H-Temperature    0.324614\n",
      "Type             1.000000\n",
      "Name: Type, dtype: float64\n"
     ]
    }
   ],
   "source": [
    "#Correlation with output variable\n",
    "cor_target = abs(cor[\"Type\"])\n",
    "\n",
    "#Selecting highly correlated features\n",
    "relevant_features = cor_target[cor_target>0.3]\n",
    "print(relevant_features)"
   ]
  },
  {
   "cell_type": "code",
   "execution_count": 19,
   "id": "10d8273c",
   "metadata": {},
   "outputs": [],
   "source": [
    "corr_vars = set()\n",
    "corr_vars.update(relevant_features.index.unique(level=0))\n",
    "all_vars = set(data.columns)\n",
    "feature_cor = X.drop(columns=all_vars - corr_vars).columns"
   ]
  },
  {
   "cell_type": "markdown",
   "id": "b50b2135",
   "metadata": {},
   "source": [
    "### 4.2.2 Embedded Method: Random Forest Importance"
   ]
  },
  {
   "cell_type": "code",
   "execution_count": 20,
   "id": "3f15e91e",
   "metadata": {
    "scrolled": true
   },
   "outputs": [
    {
     "data": {
      "image/png": "[encoded data removed]",
      "text/plain": [
       "<Figure size 432x288 with 1 Axes>"
      ]
     },
     "metadata": {
      "needs_background": "light"
     },
     "output_type": "display_data"
    }
   ],
   "source": [
    "# embedded method: random forest feature selection\n",
    "from sklearn.ensemble import RandomForestClassifier\n",
    "\n",
    "clf = RandomForestClassifier(random_state=10)\n",
    "clf.fit(X_train,y_train)\n",
    "\n",
    "feature_imp = pd.Series(clf.feature_importances_,index=X.columns).sort_values(ascending=False)\n",
    "sns.barplot(x=feature_imp, y=feature_imp.index)\n",
    "plt.xlabel('Feature Importance Score')\n",
    "plt.ylabel('Features')\n",
    "plt.title(\"Random Forest Feature Importance\")\n",
    "plt.savefig('RandomForestFeatureImportance.jpg',bbox_inches='tight')\n",
    "plt.show()"
   ]
  },
  {
   "cell_type": "code",
   "execution_count": 21,
   "id": "725257f0",
   "metadata": {},
   "outputs": [
    {
     "name": "stdout",
     "output_type": "stream",
     "text": [
      "Selected Feature:\n",
      "1 - Fever\n",
      "2 - Cough\n",
      "3 - Dyspnea\n",
      "4 - H-Temperature\n"
     ]
    }
   ],
   "source": [
    "from sklearn.feature_selection import SelectFromModel\n",
    "from sklearn.ensemble import RandomForestClassifier\n",
    "\n",
    "clf = RandomForestClassifier(random_state=10)\n",
    "sel = SelectFromModel(clf)\n",
    "sel.fit(X_train,y_train)\n",
    "sel.get_support()\n",
    "feature_sel = X.columns[(sel.get_support())]\n",
    "\n",
    "print(\"Selected Feature:\")\n",
    "for i in range (0,len(feature_sel)):\n",
    "    print(i+1,'-',feature_sel[i])"
   ]
  },
  {
   "cell_type": "markdown",
   "id": "f89b1537",
   "metadata": {},
   "source": [
    "### 4.2.3 RFE"
   ]
  },
  {
   "cell_type": "code",
   "execution_count": 22,
   "id": "736f20c2",
   "metadata": {},
   "outputs": [
    {
     "name": "stdout",
     "output_type": "stream",
     "text": [
      "Optimal number of features : 7\n"
     ]
    }
   ],
   "source": [
    "from sklearn.model_selection import StratifiedKFold\n",
    "from sklearn.feature_selection import RFECV\n",
    "from sklearn.ensemble import RandomForestClassifier\n",
    "\n",
    "min_features=1\n",
    "rfecv = RFECV(\n",
    "    estimator=RandomForestClassifier(random_state=10),\n",
    "    step=1,\n",
    "    cv=StratifiedKFold(5),\n",
    "    scoring=\"accuracy\",\n",
    "    min_features_to_select=min_features,\n",
    ")\n",
    "rfecv.fit(X_train,y_train)\n",
    "\n",
    "print(\"Optimal number of features : %d\" % rfecv.n_features_)"
   ]
  },
  {
   "cell_type": "code",
   "execution_count": 23,
   "id": "416ede44",
   "metadata": {},
   "outputs": [
    {
     "name": "stderr",
     "output_type": "stream",
     "text": [
      "C:\\Users\\irham\\AppData\\Local\\Programs\\Python\\Python310\\lib\\site-packages\\sklearn\\utils\\deprecation.py:103: FutureWarning: The `grid_scores_` attribute is deprecated in version 1.0 in favor of `cv_results_` and will be removed in version 1.2.\n",
      "  warnings.warn(msg, category=FutureWarning)\n"
     ]
    },
    {
     "data": {
      "image/png": "[encoded data removed]",
      "text/plain": [
       "<Figure size 432x288 with 1 Axes>"
      ]
     },
     "metadata": {
      "needs_background": "light"
     },
     "output_type": "display_data"
    }
   ],
   "source": [
    "# Plot number of features VS. cross-validation scores\n",
    "plt.figure()\n",
    "plt.xlabel(\"Number of features selected\")\n",
    "plt.ylabel(\"Cross validation score (accuracy)\")\n",
    "plt.plot(\n",
    "    range(min_features, len(rfecv.grid_scores_) + min_features),\n",
    "    rfecv.grid_scores_\n",
    ")\n",
    "plt.savefig('rfe.jpg',bbox_inches='tight')\n",
    "plt.show()"
   ]
  },
  {
   "cell_type": "code",
   "execution_count": 24,
   "id": "a0c753ad",
   "metadata": {},
   "outputs": [
    {
     "name": "stdout",
     "output_type": "stream",
     "text": [
      "['Gender', 'Age', 'Fever', 'Cough', 'Fatigue', 'Dyspnea', 'H-Temperature']\n"
     ]
    }
   ],
   "source": [
    "# display selected features\n",
    "cols = list(X.columns)\n",
    "feature_rfe = []\n",
    "for i in range(X.shape[1]):\n",
    "    if rfecv.ranking_[i] == 1:\n",
    "        feature_rfe.append(cols[i])\n",
    "print(feature_rfe)"
   ]
  },
  {
   "cell_type": "markdown",
   "id": "35179e91",
   "metadata": {},
   "source": [
    "### 4.2.4 Feature Selection Method Comparison"
   ]
  },
  {
   "cell_type": "code",
   "execution_count": 25,
   "id": "1cd1c3d2",
   "metadata": {},
   "outputs": [],
   "source": [
    "# compare accuracy from each feature selection method\n",
    "\n",
    "from sklearn import metrics\n",
    "\n",
    "clf = RandomForestClassifier(random_state=10)\n",
    "\n",
    "# accuracy of correlation method\n",
    "clf.fit(X_train[feature_cor],y_train)\n",
    "y_pred = clf.predict(X_test[feature_cor])\n",
    "cor_accuracy = metrics.accuracy_score(y_test,y_pred)\n",
    "\n",
    "# accuracy of tree based feature selection (embedded method)\n",
    "clf.fit(X_train[feature_sel],y_train)\n",
    "y_pred = clf.predict(X_test[feature_sel])\n",
    "sel_accuracy = metrics.accuracy_score(y_test,y_pred)\n",
    "\n",
    "# accuracy of rfe\n",
    "clf.fit(X_train[feature_rfe],y_train)\n",
    "y_pred = clf.predict(X_test[feature_rfe])\n",
    "rfe_accuracy = metrics.accuracy_score(y_test,y_pred)"
   ]
  },
  {
   "cell_type": "code",
   "execution_count": 26,
   "id": "18070b64",
   "metadata": {},
   "outputs": [
    {
     "data": {
      "image/png": "[encoded data removed]",
      "text/plain": [
       "<Figure size 288x360 with 1 Axes>"
      ]
     },
     "metadata": {
      "needs_background": "light"
     },
     "output_type": "display_data"
    }
   ],
   "source": [
    "# plotting the comparison between the feature selection method\n",
    "\n",
    "plt.subplots(figsize=(4,5))\n",
    "\n",
    "method = ['Pearson\\nCorrelation','RF Importance','RFE']\n",
    "accuracy = [cor_accuracy,sel_accuracy,rfe_accuracy]\n",
    "\n",
    "ax = sns.barplot(x=method,y=accuracy)\n",
    "ax.set_xlabel('Feature Selection Method')\n",
    "ax.set_ylabel('Accuracy')\n",
    "for i,v in enumerate(accuracy):\n",
    "    ax.text(i - .2,v + .01,\"{:.2%}\".format(v))\n",
    "\n",
    "plt.title(\"Comparison of Feature Selection Method\")\n",
    "plt.tight_layout()\n",
    "plt.show()"
   ]
  },
  {
   "cell_type": "markdown",
   "id": "0c520fb7",
   "metadata": {},
   "source": [
    "## 4.3 Machine Learning Model Comparison"
   ]
  },
  {
   "cell_type": "code",
   "execution_count": 27,
   "id": "ae004b44",
   "metadata": {},
   "outputs": [],
   "source": [
    "# update X_train,X_test\n",
    "X_train = X_train[feature_rfe]\n",
    "X_test = X_test[feature_rfe]"
   ]
  },
  {
   "cell_type": "markdown",
   "id": "5f9c429e",
   "metadata": {},
   "source": [
    "### 4.3.1 Naive Bayes Model"
   ]
  },
  {
   "cell_type": "code",
   "execution_count": 28,
   "id": "c3c0b9db",
   "metadata": {},
   "outputs": [
    {
     "name": "stdout",
     "output_type": "stream",
     "text": [
      "Accuracy(Naive Bayes): 72.12%\n"
     ]
    }
   ],
   "source": [
    "from sklearn.naive_bayes import GaussianNB\n",
    "from sklearn import metrics\n",
    "\n",
    "nb_model = GaussianNB()\n",
    "nb_model.fit(X_train,y_train)\n",
    "y_pred = nb_model.predict(X_test)\n",
    "\n",
    "nb_accuracy = metrics.accuracy_score(y_test,y_pred)\n",
    "print(\"Accuracy(Naive Bayes):\",\"{:.2%}\".format(nb_accuracy))"
   ]
  },
  {
   "cell_type": "code",
   "execution_count": 29,
   "id": "fbf5bce0",
   "metadata": {},
   "outputs": [
    {
     "name": "stdout",
     "output_type": "stream",
     "text": [
      "Fitting 5 folds for each of 100 candidates, totalling 500 fits\n"
     ]
    },
    {
     "data": {
      "text/plain": [
       "GridSearchCV(cv=5, estimator=GaussianNB(), n_jobs=-1,\n",
       "             param_grid={'var_smoothing': array([1.00000000e+00, 8.11130831e-01, 6.57933225e-01, 5.33669923e-01,\n",
       "       4.32876128e-01, 3.51119173e-01, 2.84803587e-01, 2.31012970e-01,\n",
       "       1.87381742e-01, 1.51991108e-01, 1.23284674e-01, 1.00000000e-01,\n",
       "       8.11130831e-02, 6.57933225e-02, 5.33669923e-02, 4.32876128e-02,\n",
       "       3.51119173e-02, 2.8480358...\n",
       "       1.23284674e-07, 1.00000000e-07, 8.11130831e-08, 6.57933225e-08,\n",
       "       5.33669923e-08, 4.32876128e-08, 3.51119173e-08, 2.84803587e-08,\n",
       "       2.31012970e-08, 1.87381742e-08, 1.51991108e-08, 1.23284674e-08,\n",
       "       1.00000000e-08, 8.11130831e-09, 6.57933225e-09, 5.33669923e-09,\n",
       "       4.32876128e-09, 3.51119173e-09, 2.84803587e-09, 2.31012970e-09,\n",
       "       1.87381742e-09, 1.51991108e-09, 1.23284674e-09, 1.00000000e-09])},\n",
       "             verbose=2)"
      ]
     },
     "execution_count": 29,
     "metadata": {},
     "output_type": "execute_result"
    }
   ],
   "source": [
    "from sklearn.model_selection import GridSearchCV\n",
    "\n",
    "param_grid = {\n",
    "    'var_smoothing': np.logspace(0,-9, num=100)\n",
    "}\n",
    "\n",
    "grid_search = GridSearchCV(estimator = nb_model, param_grid = param_grid, \n",
    "                          cv = 5, n_jobs=-1, verbose = 2)\n",
    "\n",
    "grid_search.fit(X_train, y_train)"
   ]
  },
  {
   "cell_type": "code",
   "execution_count": 30,
   "id": "00a601c3",
   "metadata": {},
   "outputs": [
    {
     "data": {
      "text/plain": [
       "({'var_smoothing': 0.03511191734215131}, 0.7590361445783133)"
      ]
     },
     "execution_count": 30,
     "metadata": {},
     "output_type": "execute_result"
    }
   ],
   "source": [
    "grid_search.best_params_, grid_search.best_score_"
   ]
  },
  {
   "cell_type": "code",
   "execution_count": 31,
   "id": "9bd50018",
   "metadata": {},
   "outputs": [
    {
     "name": "stdout",
     "output_type": "stream",
     "text": [
      "Accuracy(Naive Bayes): 75.00%\n"
     ]
    }
   ],
   "source": [
    "optimized_nb = grid_search.best_estimator_\n",
    "optimized_nb.fit(X_train, y_train)\n",
    "\n",
    "y_pred = optimized_nb.predict(X_test)\n",
    "nb_accuracy = metrics.accuracy_score(y_test,y_pred)\n",
    "print(\"Accuracy(Naive Bayes):\",\"{:.2%}\".format(nb_accuracy))"
   ]
  },
  {
   "cell_type": "markdown",
   "id": "3b3fc7b1",
   "metadata": {},
   "source": [
    "### 4.3.2 Gradient Boosting Classifier"
   ]
  },
  {
   "cell_type": "code",
   "execution_count": 32,
   "id": "2509d942",
   "metadata": {},
   "outputs": [
    {
     "name": "stdout",
     "output_type": "stream",
     "text": [
      "Accuracy(GB Decision Tree): 77.40%\n"
     ]
    }
   ],
   "source": [
    "from sklearn.ensemble import GradientBoostingClassifier\n",
    "\n",
    "gb_model = GradientBoostingClassifier(random_state=10)\n",
    "gb_model.fit(X_train,y_train)\n",
    "y_pred = gb_model.predict(X_test)\n",
    "\n",
    "gb_accuracy = metrics.accuracy_score(y_test,y_pred)\n",
    "print(\"Accuracy(GB Decision Tree):\",\"{:.2%}\".format(gb_accuracy))"
   ]
  },
  {
   "cell_type": "code",
   "execution_count": 33,
   "id": "c9ae5161",
   "metadata": {},
   "outputs": [
    {
     "name": "stdout",
     "output_type": "stream",
     "text": [
      "Fitting 5 folds for each of 50 candidates, totalling 250 fits\n"
     ]
    },
    {
     "data": {
      "text/plain": [
       "GridSearchCV(cv=5, estimator=GradientBoostingClassifier(random_state=10),\n",
       "             n_jobs=-1,\n",
       "             param_grid={'max_features': array([1, 2, 3, 4, 5]),\n",
       "                         'n_estimators': array([ 10,  20,  30,  40,  50,  60,  70,  80,  90, 100])},\n",
       "             verbose=2)"
      ]
     },
     "execution_count": 33,
     "metadata": {},
     "output_type": "execute_result"
    }
   ],
   "source": [
    "from sklearn.model_selection import GridSearchCV\n",
    "\n",
    "max_features_range = np.arange(1,6,1)\n",
    "n_estimators_range = np.arange(10,110,10)\n",
    "\n",
    "param_grid = {\n",
    "    'max_features': max_features_range,\n",
    "    'n_estimators': n_estimators_range\n",
    "}\n",
    "\n",
    "grid_search = GridSearchCV(estimator = gb_model, param_grid = param_grid, \n",
    "                          cv = 5, n_jobs=-1, verbose = 2)\n",
    "\n",
    "grid_search.fit(X_train, y_train)"
   ]
  },
  {
   "cell_type": "code",
   "execution_count": 34,
   "id": "ddeacc41",
   "metadata": {},
   "outputs": [
    {
     "data": {
      "text/plain": [
       "({'max_features': 1, 'n_estimators': 90}, 0.7783132530120482)"
      ]
     },
     "execution_count": 34,
     "metadata": {},
     "output_type": "execute_result"
    }
   ],
   "source": [
    "grid_search.best_params_, grid_search.best_score_"
   ]
  },
  {
   "cell_type": "code",
   "execution_count": 35,
   "id": "32804b08",
   "metadata": {},
   "outputs": [
    {
     "name": "stdout",
     "output_type": "stream",
     "text": [
      "Accuracy(GB Decision Tree): 76.44%\n"
     ]
    }
   ],
   "source": [
    "optimized_gb = grid_search.best_estimator_\n",
    "optimized_gb.fit(X_train, y_train)\n",
    "\n",
    "y_pred = optimized_gb.predict(X_test)\n",
    "gb_accuracy = metrics.accuracy_score(y_test,y_pred)\n",
    "print(\"Accuracy(GB Decision Tree):\",\"{:.2%}\".format(gb_accuracy))"
   ]
  },
  {
   "cell_type": "markdown",
   "id": "b4016a55",
   "metadata": {},
   "source": [
    "### 4.3.3 Random Forest Model"
   ]
  },
  {
   "cell_type": "code",
   "execution_count": 36,
   "id": "fc4a2981",
   "metadata": {},
   "outputs": [
    {
     "name": "stdout",
     "output_type": "stream",
     "text": [
      "Accuracy(Random Forest): 77.40%\n"
     ]
    }
   ],
   "source": [
    "from sklearn.ensemble import RandomForestClassifier\n",
    "\n",
    "rf_model = RandomForestClassifier(random_state=10)\n",
    "rf_model.fit(X_train,y_train)\n",
    "y_pred = rf_model.predict(X_test)\n",
    "\n",
    "rf_accuracy = metrics.accuracy_score(y_test,y_pred)\n",
    "print(\"Accuracy(Random Forest):\",\"{:.2%}\".format(rf_accuracy))"
   ]
  },
  {
   "cell_type": "code",
   "execution_count": 37,
   "id": "187245de",
   "metadata": {},
   "outputs": [
    {
     "name": "stdout",
     "output_type": "stream",
     "text": [
      "Fitting 5 folds for each of 50 candidates, totalling 250 fits\n"
     ]
    },
    {
     "data": {
      "text/plain": [
       "GridSearchCV(cv=5, estimator=RandomForestClassifier(random_state=10), n_jobs=-1,\n",
       "             param_grid={'max_features': array([1, 2, 3, 4, 5]),\n",
       "                         'n_estimators': array([ 10,  20,  30,  40,  50,  60,  70,  80,  90, 100])},\n",
       "             verbose=2)"
      ]
     },
     "execution_count": 37,
     "metadata": {},
     "output_type": "execute_result"
    }
   ],
   "source": [
    "from sklearn.model_selection import GridSearchCV\n",
    "\n",
    "max_features_range = np.arange(1,6,1)\n",
    "n_estimators_range = np.arange(10,110,10)\n",
    "\n",
    "param_grid = {\n",
    "    'max_features': max_features_range,\n",
    "    'n_estimators': n_estimators_range\n",
    "}\n",
    "\n",
    "grid_search = GridSearchCV(estimator = rf_model, param_grid = param_grid, \n",
    "                          cv = 5, n_jobs=-1, verbose = 2)\n",
    "\n",
    "grid_search.fit(X_train, y_train)"
   ]
  },
  {
   "cell_type": "code",
   "execution_count": 38,
   "id": "4c8b09f5",
   "metadata": {},
   "outputs": [
    {
     "data": {
      "text/plain": [
       "({'max_features': 1, 'n_estimators': 30}, 0.7855421686746988)"
      ]
     },
     "execution_count": 38,
     "metadata": {},
     "output_type": "execute_result"
    }
   ],
   "source": [
    "grid_search.best_params_, grid_search.best_score_"
   ]
  },
  {
   "cell_type": "code",
   "execution_count": 52,
   "id": "f7641f1b",
   "metadata": {},
   "outputs": [
    {
     "name": "stdout",
     "output_type": "stream",
     "text": [
      "Random Forest\n",
      "Accuracy: 77.40%\n",
      "              precision    recall  f1-score   support\n",
      "\n",
      "           1       0.91      0.97      0.94        74\n",
      "           2       0.62      0.80      0.70        65\n",
      "           3       0.82      0.54      0.65        69\n",
      "\n",
      "    accuracy                           0.77       208\n",
      "   macro avg       0.78      0.77      0.76       208\n",
      "weighted avg       0.79      0.77      0.77       208\n",
      "\n",
      "   class  specificity  sensitivity\n",
      "0      1     0.947761     0.972973\n",
      "1      2     0.776224     0.800000\n",
      "2      3     0.942446     0.536232\n"
     ]
    }
   ],
   "source": [
    "from sklearn.metrics import classification_report\n",
    "optimized_rf = grid_search.best_estimator_\n",
    "optimized_rf.fit(X_train, y_train)\n",
    "\n",
    "y_pred = optimized_rf.predict(X_test)\n",
    "\n",
    "print(\"Random Forest\")\n",
    "rf_accuracy = metrics.accuracy_score(y_test,y_pred)\n",
    "print(\"Accuracy:\",\"{:.2%}\".format(rf_accuracy))\n",
    "\n",
    "print(classification_report(y_test, y_pred))\n",
    "\n",
    "from sklearn.metrics import precision_recall_fscore_support\n",
    "res = []\n",
    "for l in [1,2,3]:\n",
    "    prec,recall,_,_ = precision_recall_fscore_support(np.array(y_test)==l,\n",
    "                                                      np.array(y_pred)==l,\n",
    "                                                      pos_label=True,average=None)\n",
    "    res.append([l,recall[0],recall[1]])\n",
    "\n",
    "print(pd.DataFrame(res,columns = ['class','specificity','sensitivity'],index=False))"
   ]
  },
  {
   "cell_type": "markdown",
   "id": "9515a21d",
   "metadata": {},
   "source": [
    "### 4.3.4 Model Comparison"
   ]
  },
  {
   "cell_type": "code",
   "execution_count": 40,
   "id": "3d0430f1",
   "metadata": {},
   "outputs": [],
   "source": [
    "from sklearn.model_selection import cross_val_score\n",
    "scores = cross_val_score(optimized_nb, X, y, cv=5)\n",
    "nb_accuracy_mean = scores.mean()"
   ]
  },
  {
   "cell_type": "code",
   "execution_count": 41,
   "id": "1c97f980",
   "metadata": {},
   "outputs": [],
   "source": [
    "from sklearn.model_selection import cross_val_score\n",
    "scores = cross_val_score(optimized_gb, X, y, cv=5)\n",
    "gb_accuracy_mean = scores.mean()"
   ]
  },
  {
   "cell_type": "code",
   "execution_count": 42,
   "id": "909a9482",
   "metadata": {},
   "outputs": [],
   "source": [
    "from sklearn.model_selection import cross_val_score\n",
    "scores = cross_val_score(optimized_rf, X, y, cv=5)\n",
    "rf_accuracy_mean = scores.mean()"
   ]
  },
  {
   "cell_type": "code",
   "execution_count": 43,
   "id": "1d0cf617",
   "metadata": {},
   "outputs": [
    {
     "data": {
      "image/png": "[encoded data removed]",
      "text/plain": [
       "<Figure size 576x360 with 1 Axes>"
      ]
     },
     "metadata": {
      "needs_background": "light"
     },
     "output_type": "display_data"
    }
   ],
   "source": [
    "model = ['Naive Bayes','Gradient Boosting Classifier','Random Forest']\n",
    "accuracy = [nb_accuracy_mean,gb_accuracy_mean,rf_accuracy_mean]\n",
    "\n",
    "plt.figure(figsize=(8,5))\n",
    "\n",
    "plt.bar(model, accuracy)\n",
    "plt.title('Machine Learning Model Comparison')\n",
    "plt.ylabel('Accuracy')\n",
    "for i,v in enumerate(accuracy):\n",
    "    plt.text(i - .1,v + .01,\"{:.2%}\".format(v))\n",
    "\n",
    "plt.show()"
   ]
  },
  {
   "cell_type": "code",
   "execution_count": 44,
   "id": "e77b337a",
   "metadata": {},
   "outputs": [],
   "source": [
    "# save the model to disk\n",
    "import pickle\n",
    "\n",
    "filename = 'model\\predictive_model.sav'\n",
    "\n",
    "tuple_objects = (optimized_rf, rf_accuracy_mean)\n",
    "\n",
    "# Save tuple\n",
    "pickle.dump(tuple_objects, open(filename, 'wb'))"
   ]
  }
 ],
 "metadata": {
  "kernelspec": {
   "display_name": "Python 3 (ipykernel)",
   "language": "python",
   "name": "python3"
  },
  "language_info": {
   "codemirror_mode": {
    "name": "ipython",
    "version": 3
   },
   "file_extension": ".py",
   "mimetype": "text/x-python",
   "name": "python",
   "nbconvert_exporter": "python",
   "pygments_lexer": "ipython3",
   "version": "3.10.4"
  }
 },
 "nbformat": 4,
 "nbformat_minor": 5
}
